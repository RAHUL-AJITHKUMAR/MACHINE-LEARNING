{
 "cells": [
  {
   "cell_type": "markdown",
   "id": "c904ae56-377e-4111-9e81-26799da53902",
   "metadata": {},
   "source": [
    "# Loading and Preprocessing"
   ]
  },
  {
   "cell_type": "code",
   "execution_count": 3,
   "id": "b49f5523-7e5d-42b7-93cb-1fa68932b62a",
   "metadata": {},
   "outputs": [
    {
     "name": "stdout",
     "output_type": "stream",
     "text": [
      "Missing values:\n",
      " MedInc         0\n",
      "HouseAge       0\n",
      "AveRooms       0\n",
      "AveBedrms      0\n",
      "Population     0\n",
      "AveOccup       0\n",
      "Latitude       0\n",
      "Longitude      0\n",
      "MedHouseVal    0\n",
      "dtype: int64\n"
     ]
    }
   ],
   "source": [
    "import pandas as pd\n",
    "import numpy as np\n",
    "from sklearn.datasets import fetch_california_housing\n",
    "from sklearn.preprocessing import StandardScaler\n",
    "from sklearn.model_selection import train_test_split\n",
    "\n",
    "# Load the dataset\n",
    "california = fetch_california_housing()\n",
    "data = pd.DataFrame(california.data, columns=california.feature_names)\n",
    "data['MedHouseVal'] = california.target\n",
    "\n",
    "# Check for missing values\n",
    "print(\"Missing values:\\n\", data.isnull().sum())\n",
    "\n",
    "# Feature scaling\n",
    "scaler = StandardScaler()\n",
    "features = california.feature_names\n",
    "data[features] = scaler.fit_transform(data[features])\n",
    "\n",
    "# Split into train and test sets\n",
    "X = data.drop('MedHouseVal', axis=1)\n",
    "y = data['MedHouseVal']\n",
    "X_train, X_test, y_train, y_test = train_test_split(X, y, test_size=0.2, random_state=42)"
   ]
  },
  {
   "cell_type": "markdown",
   "id": "38febad2-b305-49a6-b3fd-5ccaffa0842b",
   "metadata": {},
   "source": [
    "# Regression Algorithm Implementation"
   ]
  },
  {
   "cell_type": "markdown",
   "id": "2c12dd32-1ab5-4341-9d5f-5c5b51e958fa",
   "metadata": {},
   "source": [
    "# 1. Linear Regression"
   ]
  },
  {
   "cell_type": "code",
   "execution_count": 6,
   "id": "eb7bff19-89dc-4e1d-8677-39025d055f8c",
   "metadata": {},
   "outputs": [],
   "source": [
    "from sklearn.linear_model import LinearRegression\n",
    "from sklearn.metrics import mean_squared_error, mean_absolute_error, r2_score\n",
    "\n",
    "lr = LinearRegression()\n",
    "lr.fit(X_train, y_train)\n",
    "y_pred = lr.predict(X_test)\n",
    "\n",
    "lr_mse = mean_squared_error(y_test, y_pred)\n",
    "lr_mae = mean_absolute_error(y_test, y_pred)\n",
    "lr_r2 = r2_score(y_test, y_pred)"
   ]
  },
  {
   "cell_type": "markdown",
   "id": "2112c8e1-af5d-42ae-ad87-64ce466087b2",
   "metadata": {},
   "source": [
    "# 2. Decision Tree Regression"
   ]
  },
  {
   "cell_type": "code",
   "execution_count": 14,
   "id": "e0670710-f4a5-4f0e-a766-a18393e07e37",
   "metadata": {},
   "outputs": [],
   "source": [
    "from sklearn.tree import DecisionTreeRegressor\n",
    "\n",
    "dt = DecisionTreeRegressor(random_state=42)\n",
    "dt.fit(X_train, y_train)\n",
    "y_pred = dt.predict(X_test)\n",
    "\n",
    "dt_mse = mean_squared_error(y_test, y_pred)\n",
    "dt_mae = mean_absolute_error(y_test, y_pred)\n",
    "dt_r2 = r2_score(y_test, y_pred)"
   ]
  },
  {
   "cell_type": "markdown",
   "id": "11f18bd5-925c-4168-a6fb-b67ba905aa09",
   "metadata": {},
   "source": [
    "# 3. Random Forest Regressor"
   ]
  },
  {
   "cell_type": "code",
   "execution_count": 16,
   "id": "3f21b6ca-0b30-4e96-83fd-ecb3cfad7164",
   "metadata": {},
   "outputs": [],
   "source": [
    "from sklearn.ensemble import RandomForestRegressor\n",
    "\n",
    "rf = RandomForestRegressor(random_state=42)\n",
    "rf.fit(X_train, y_train)\n",
    "y_pred = rf.predict(X_test)\n",
    "\n",
    "rf_mse = mean_squared_error(y_test, y_pred)\n",
    "rf_mae = mean_absolute_error(y_test, y_pred)\n",
    "rf_r2 = r2_score(y_test, y_pred)"
   ]
  },
  {
   "cell_type": "markdown",
   "id": "7d97a677-e3ba-4481-9823-deec6bcc41c8",
   "metadata": {},
   "source": [
    "# 4. Gradient Boosting Regressor"
   ]
  },
  {
   "cell_type": "code",
   "execution_count": 19,
   "id": "adfe8682-1085-4bd3-81b9-59bd50a5852d",
   "metadata": {},
   "outputs": [],
   "source": [
    "from sklearn.ensemble import GradientBoostingRegressor\n",
    "\n",
    "gb = GradientBoostingRegressor(random_state=42)\n",
    "gb.fit(X_train, y_train)\n",
    "y_pred = gb.predict(X_test)\n",
    "\n",
    "gb_mse = mean_squared_error(y_test, y_pred)\n",
    "gb_mae = mean_absolute_error(y_test, y_pred)\n",
    "gb_r2 = r2_score(y_test, y_pred)"
   ]
  },
  {
   "cell_type": "markdown",
   "id": "d12bfd1c-1640-4658-82af-406819e85846",
   "metadata": {},
   "source": [
    "# 5. Support Vector Regressor (SVR)"
   ]
  },
  {
   "cell_type": "code",
   "execution_count": 33,
   "id": "ceeb125a-cfd0-4139-872a-2597a99d5d43",
   "metadata": {},
   "outputs": [],
   "source": [
    "from sklearn.svm import SVR\n",
    "\n",
    "svr = SVR()\n",
    "svr.fit(X_train, y_train)\n",
    "y_pred = svr.predict(X_test)\n",
    "\n",
    "svr_mse = mean_squared_error(y_test, y_pred)\n",
    "svr_mae = mean_absolute_error(y_test, y_pred)\n",
    "svr_r2 = r2_score(y_test, y_pred)"
   ]
  },
  {
   "cell_type": "markdown",
   "id": "6a685ce9-82a5-45a4-a1e0-267b39243df5",
   "metadata": {},
   "source": [
    "# Model Evaluation and Comparison"
   ]
  },
  {
   "cell_type": "code",
   "execution_count": 36,
   "id": "8fccd9a9-84a1-42a2-8307-bf4d11ee3530",
   "metadata": {},
   "outputs": [
    {
     "name": "stdout",
     "output_type": "stream",
     "text": [
      "               Model       MSE       MAE        R2\n",
      "2      Random Forest  0.255498  0.327613  0.805024\n",
      "3  Gradient Boosting  0.293999  0.371650  0.775643\n",
      "4                SVR  0.355198  0.397763  0.728941\n",
      "1      Decision Tree  0.494272  0.453784  0.622811\n",
      "0  Linear Regression  0.555892  0.533200  0.575788\n"
     ]
    }
   ],
   "source": [
    "results = pd.DataFrame({\n",
    "    'Model': ['Linear Regression', 'Decision Tree', 'Random Forest', 'Gradient Boosting', 'SVR'],\n",
    "    'MSE': [lr_mse, dt_mse, rf_mse, gb_mse, svr_mse],\n",
    "    'MAE': [lr_mae, dt_mae, rf_mae, gb_mae, svr_mae],\n",
    "    'R2': [lr_r2, dt_r2, rf_r2, gb_r2, svr_r2]\n",
    "})\n",
    "\n",
    "print(results.sort_values(by='R2', ascending=False))"
   ]
  },
  {
   "cell_type": "code",
   "execution_count": null,
   "id": "a870d58a-e741-405b-9fb7-2197ec025f75",
   "metadata": {},
   "outputs": [],
   "source": []
  }
 ],
 "metadata": {
  "kernelspec": {
   "display_name": "Python [conda env:base] *",
   "language": "python",
   "name": "conda-base-py"
  },
  "language_info": {
   "codemirror_mode": {
    "name": "ipython",
    "version": 3
   },
   "file_extension": ".py",
   "mimetype": "text/x-python",
   "name": "python",
   "nbconvert_exporter": "python",
   "pygments_lexer": "ipython3",
   "version": "3.12.7"
  }
 },
 "nbformat": 4,
 "nbformat_minor": 5
}
